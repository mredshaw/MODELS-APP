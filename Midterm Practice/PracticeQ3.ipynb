{
 "cells": [
  {
   "cell_type": "code",
   "execution_count": 1,
   "metadata": {},
   "outputs": [],
   "source": [
    "import gurobipy as gb\n",
    "from gurobipy import GRB\n",
    "import pandas as pd"
   ]
  },
  {
   "cell_type": "code",
   "execution_count": 2,
   "metadata": {},
   "outputs": [
    {
     "name": "stdout",
     "output_type": "stream",
     "text": [
      "Set parameter Username\n",
      "Academic license - for non-commercial use only - expires 2025-01-15\n"
     ]
    }
   ],
   "source": [
    "# Read the CSV file into a DataFrame\n",
    "routes_df = pd.read_csv('/Users/mikeredshaw/Documents/Schulich MBAN/Models & Applications/Midterm Practice/Routes.csv')\n",
    "\n",
    "# Initialize the model\n",
    "model = gb.Model(\"Shuttle Service\")"
   ]
  },
  {
   "cell_type": "code",
   "execution_count": 3,
   "metadata": {},
   "outputs": [],
   "source": [
    "# Parse the routes and extract individual stops\n",
    "all_stops = set()  # A set to hold all unique stops\n",
    "routes = []  # A list to hold all routes as lists of stops\n",
    "for route in routes_df['Routes']:\n",
    "    # Assume the route string format is \"['U', 'a', 'b', 'U']\"\n",
    "    # We need to parse it into a list of stops, e.g., ['U', 'a', 'b', 'U']\n",
    "    stops = route.strip(\"[]\").replace(\"'\", \"\").split(\", \")\n",
    "    routes.append(stops)\n",
    "    all_stops.update(stops)"
   ]
  },
  {
   "cell_type": "code",
   "execution_count": 5,
   "metadata": {},
   "outputs": [
    {
     "data": {
      "text/plain": [
       "{'U', 'a', 'b', 'c', 'd', 'e', 'f'}"
      ]
     },
     "execution_count": 5,
     "metadata": {},
     "output_type": "execute_result"
    }
   ],
   "source": [
    "all_stops"
   ]
  }
 ],
 "metadata": {
  "kernelspec": {
   "display_name": "Python 3",
   "language": "python",
   "name": "python3"
  },
  "language_info": {
   "codemirror_mode": {
    "name": "ipython",
    "version": 3
   },
   "file_extension": ".py",
   "mimetype": "text/x-python",
   "name": "python",
   "nbconvert_exporter": "python",
   "pygments_lexer": "ipython3",
   "version": "3.11.3"
  }
 },
 "nbformat": 4,
 "nbformat_minor": 2
}
