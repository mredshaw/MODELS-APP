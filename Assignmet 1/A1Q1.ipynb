{
 "cells": [
  {
   "cell_type": "code",
   "execution_count": 30,
   "metadata": {},
   "outputs": [],
   "source": [
    "from gurobipy import GRB\n",
    "import gurobipy as gb\n",
    "import pandas as pd"
   ]
  },
  {
   "cell_type": "code",
   "execution_count": 31,
   "metadata": {},
   "outputs": [],
   "source": [
    "model = gb.Model(\"Can2Oil Transshipment Problem\")"
   ]
  },
  {
   "cell_type": "code",
   "execution_count": 32,
   "metadata": {},
   "outputs": [
    {
     "name": "stdout",
     "output_type": "stream",
     "text": [
      "   ProductionFacility  RefinementCenter      Cost\n",
      "0                   1                 1  4.252733\n",
      "1                   1                 2  4.567726\n",
      "2                   1                 3  4.696484\n",
      "3                   1                 4  2.678741\n",
      "4                   1                 5  4.272451\n",
      "   ProductionFacility  TransshipmentHub      Cost\n",
      "0                   1                 1  2.378826\n",
      "1                   1                 2  0.863842\n",
      "2                   2                 1  1.666982\n",
      "3                   2                 2  2.119488\n",
      "4                   3                 1  2.174880\n",
      "   TransshipmentHub  RefinementCenter      Cost\n",
      "0                 1                 1  1.572329\n",
      "1                 1                 2  3.465474\n",
      "2                 1                 3  2.244062\n",
      "3                 1                 4  3.773839\n",
      "4                 1                 5  3.262652\n",
      "   ProductionFacility  Capacity\n",
      "0                   1       374\n",
      "1                   2       444\n",
      "2                   3       395\n",
      "3                   4       245\n",
      "4                   5       378\n",
      "   RefinementCenter  Demand\n",
      "0                 1    1537\n",
      "1                 2    1748\n",
      "2                 3    1940\n",
      "3                 4    1838\n",
      "4                 5    1665\n"
     ]
    }
   ],
   "source": [
    "costs_df = pd.read_csv('/Users/mikeredshaw/Documents/Schulich MBAN/Models & Applications/Assignment 1/Cost_Production_to_Refinement.csv')\n",
    "costs_transshipment_df = pd.read_csv('/Users/mikeredshaw/Documents/Schulich MBAN/Models & Applications/Assignment 1/Cost_Production_to_Transshipment.csv')\n",
    "costs_transshipment_to_refinement_df = pd.read_csv('/Users/mikeredshaw/Documents/Schulich MBAN/Models & Applications/Assignment 1/Cost_Transshipment_to_Refinement.csv')\n",
    "capacity_transship_production_df = pd.read_csv('/Users/mikeredshaw/Documents/Schulich MBAN/Models & Applications/Assignment 1/Capacity_for_Transship_Production_Facilities.csv')\n",
    "demand_refinement_df = pd.read_csv('/Users/mikeredshaw/Documents/Schulich MBAN/Models & Applications/Assignment 1/Refinement_Demand.csv')\n",
    "\n",
    "print(costs_df.head())\n",
    "print(costs_transshipment_df.head())\n",
    "print(costs_transshipment_to_refinement_df.head())\n",
    "print(capacity_transship_production_df.head())\n",
    "print(demand_refinement_df.head())"
   ]
  },
  {
   "cell_type": "code",
   "execution_count": 33,
   "metadata": {},
   "outputs": [],
   "source": [
    "# First, we need to create tuples for the indices\n",
    "production_facilities = costs_df['ProductionFacility'].unique()\n",
    "refinement_centers = costs_df['RefinementCenter'].unique()\n",
    "prod_refin_tuples = gb.tuplelist((p, r) for p in production_facilities for r in refinement_centers)\n",
    "\n",
    "# Now we need to create a dictionary for the costs, keyed by these tuples\n",
    "costs_dict = {(row['ProductionFacility'], row['RefinementCenter']): row['Cost'] for _, row in costs_df.iterrows()}\n"
   ]
  },
  {
   "cell_type": "code",
   "execution_count": 34,
   "metadata": {},
   "outputs": [],
   "source": [
    "x = model.addVars(prod_refin_tuples, \n",
    "                  obj=costs_dict, \n",
    "                  lb=0, vtype=GRB.CONTINUOUS, \n",
    "                  name=\"Ship_Production_to_Refinement\")"
   ]
  },
  {
   "cell_type": "code",
   "execution_count": 35,
   "metadata": {},
   "outputs": [],
   "source": [
    "# Create tuples for the indices\n",
    "production_facilities_transship = costs_transshipment_df['ProductionFacility'].unique()\n",
    "transshipment_hubs = costs_transshipment_df['TransshipmentHub'].unique()\n",
    "prod_trans_tuples = gb.tuplelist((p, t) for p in production_facilities_transship for t in transshipment_hubs)\n",
    "\n",
    "# Create a dictionary for the costs, keyed by these tuples\n",
    "trans_costs_dict = {(row['ProductionFacility'], row['TransshipmentHub']): row['Cost'] for _, row in costs_transshipment_df.iterrows()}"
   ]
  },
  {
   "cell_type": "code",
   "execution_count": 36,
   "metadata": {},
   "outputs": [],
   "source": [
    "# Now we can define the decision variables for shipping from production facilities to transshipment centers\n",
    "y = model.addVars(prod_trans_tuples, \n",
    "                  obj=trans_costs_dict, \n",
    "                  lb=0, vtype=GRB.CONTINUOUS, \n",
    "                  name=\"Ship_Production_to_Transshipment\")"
   ]
  },
  {
   "cell_type": "code",
   "execution_count": 37,
   "metadata": {},
   "outputs": [],
   "source": [
    "# Create tuples for the indices\n",
    "transship_refin_tuples = gb.tuplelist(\n",
    "    (t, r) for t in transshipment_hubs for r in refinement_centers\n",
    ")\n",
    "\n",
    "# Create a dictionary for the costs, keyed by these tuples\n",
    "transship_to_refin_costs_dict = {\n",
    "    (row['TransshipmentHub'], row['RefinementCenter']): row['Cost']\n",
    "    for _, row in costs_transshipment_to_refinement_df.iterrows()\n",
    "}"
   ]
  },
  {
   "cell_type": "code",
   "execution_count": 38,
   "metadata": {},
   "outputs": [],
   "source": [
    "# Now we can define the decision variables for shipping from transshipment centers to refinement centers\n",
    "z = model.addVars(transship_refin_tuples, \n",
    "                  obj=transship_to_refin_costs_dict, \n",
    "                  lb=0, vtype=GRB.CONTINUOUS, \n",
    "                  name=\"Ship_Transshipment_to_Refinement\")"
   ]
  },
  {
   "cell_type": "code",
   "execution_count": 41,
   "metadata": {},
   "outputs": [],
   "source": [
    "# Convert the capacity DataFrame to a dictionary for easier lookup\n",
    "capacity_dict = capacity_transship_production_df.set_index('ProductionFacility')['Capacity'].to_dict()\n",
    "\n",
    "# Update supply constraints for production facilities that ship to transshipment centers\n",
    "for facility in production_facilities_transship:\n",
    "    model.addConstr(\n",
    "        gb.quicksum(y[facility, hub] for hub in transshipment_hubs)\n",
    "        <= capacity_dict[facility],\n",
    "        name=f\"Supply_Capacity_{facility}\"\n",
    "    )\n"
   ]
  },
  {
   "cell_type": "code",
   "execution_count": 42,
   "metadata": {},
   "outputs": [],
   "source": [
    "# Define the capacities for the transshipment centers as a dictionary\n",
    "transship_capacities = {1: 1317, 2: 1453}\n",
    "\n",
    "# Update transshipment constraints for transshipment centers\n",
    "for hub in transshipment_hubs:\n",
    "    model.addConstr(\n",
    "        gb.quicksum(z[hub, center] for center in refinement_centers) \n",
    "        <= transship_capacities[hub],\n",
    "        name=f\"Transshipment_Capacity_{hub}\"\n",
    "    )\n"
   ]
  },
  {
   "cell_type": "code",
   "execution_count": 43,
   "metadata": {},
   "outputs": [],
   "source": [
    "# Convert the demand DataFrame to a dictionary for easier lookup\n",
    "demand_dict = demand_refinement_df.set_index('RefinementCenter')['Demand'].to_dict()\n",
    "\n",
    "# Update demand constraints for refinement centers\n",
    "for center in refinement_centers:\n",
    "    model.addConstr(\n",
    "        (gb.quicksum(x[facility, center] for facility in production_facilities if (facility, center) in x) +\n",
    "         gb.quicksum(z[hub, center] for hub in transshipment_hubs if (hub, center) in z))\n",
    "        >= demand_dict[center],\n",
    "        name=f\"Demand_{center}\"\n",
    "    )\n"
   ]
  },
  {
   "cell_type": "code",
   "execution_count": 44,
   "metadata": {},
   "outputs": [
    {
     "name": "stdout",
     "output_type": "stream",
     "text": [
      "Gurobi Optimizer version 11.0.0 build v11.0.0rc2 (mac64[arm] - Darwin 23.2.0 23C71)\n",
      "\n",
      "CPU model: Apple M2 Pro\n",
      "Thread count: 10 physical cores, 10 logical processors, using up to 10 threads\n",
      "\n",
      "Optimize a model with 38 rows, 165 columns and 210 nonzeros\n",
      "Model fingerprint: 0x28d210c6\n",
      "Coefficient statistics:\n",
      "  Matrix range     [1e+00, 2e+01]\n",
      "  Objective range  [6e-01, 6e+00]\n",
      "  Bounds range     [0e+00, 0e+00]\n",
      "  RHS range        [2e+02, 2e+03]\n",
      "Presolve removed 32 rows and 155 columns\n",
      "Presolve time: 0.00s\n",
      "Presolved: 6 rows, 10 columns, 16 nonzeros\n",
      "\n",
      "Iteration    Objective       Primal Inf.    Dual Inf.      Time\n",
      "       0    1.1881492e+04   6.163136e+02   0.000000e+00      0s\n",
      "       7    2.0891777e+04   0.000000e+00   0.000000e+00      0s\n",
      "\n",
      "Solved in 7 iterations and 0.00 seconds (0.00 work units)\n",
      "Optimal objective  2.089177707e+04\n"
     ]
    }
   ],
   "source": [
    "# The objective function is already set through the 'obj' parameter in the decision variables\n",
    "\n",
    "# Optimally solve the problem\n",
    "model.optimize()"
   ]
  },
  {
   "cell_type": "code",
   "execution_count": 45,
   "metadata": {},
   "outputs": [
    {
     "name": "stdout",
     "output_type": "stream",
     "text": [
      "Number of Decision Variables:  165\n"
     ]
    }
   ],
   "source": [
    "# Number of variables in the model\n",
    "print(\"Number of Decision Variables: \", model.numVars)"
   ]
  },
  {
   "cell_type": "code",
   "execution_count": 46,
   "metadata": {},
   "outputs": [
    {
     "name": "stdout",
     "output_type": "stream",
     "text": [
      "Total Transportation cost:  20891.77707233583\n"
     ]
    }
   ],
   "source": [
    "# Value of the objective function\n",
    "print(\"Total Transportation cost: \", model.objVal)"
   ]
  },
  {
   "cell_type": "code",
   "execution_count": 47,
   "metadata": {},
   "outputs": [
    {
     "name": "stdout",
     "output_type": "stream",
     "text": [
      "Ship_Production_to_Refinement[1,4]: 1838.0\n",
      "Ship_Production_to_Refinement[2,2]: 295.0\n",
      "Ship_Production_to_Refinement[8,5]: 1665.0\n",
      "Ship_Production_to_Refinement[16,1]: 878.5\n",
      "Ship_Production_to_Refinement[21,3]: 1940.0\n",
      "Ship_Transshipment_to_Refinement[1,1]: 658.5\n",
      "Ship_Transshipment_to_Refinement[2,2]: 1453.0\n"
     ]
    }
   ],
   "source": [
    "# Print the decision variables\n",
    "for v in model.getVars():\n",
    "    if v.x > 0:\n",
    "        print(f\"{v.varName}: {v.x}\")"
   ]
  }
 ],
 "metadata": {
  "kernelspec": {
   "display_name": "Python 3",
   "language": "python",
   "name": "python3"
  },
  "language_info": {
   "codemirror_mode": {
    "name": "ipython",
    "version": 3
   },
   "file_extension": ".py",
   "mimetype": "text/x-python",
   "name": "python",
   "nbconvert_exporter": "python",
   "pygments_lexer": "ipython3",
   "version": "3.11.3"
  }
 },
 "nbformat": 4,
 "nbformat_minor": 2
}
