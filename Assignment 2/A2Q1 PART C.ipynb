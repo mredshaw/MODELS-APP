{
 "cells": [
  {
   "cell_type": "code",
   "execution_count": 1,
   "metadata": {},
   "outputs": [],
   "source": [
    "import pandas as pd\n",
    "from gurobipy import Model, GRB"
   ]
  },
  {
   "cell_type": "code",
   "execution_count": 2,
   "metadata": {},
   "outputs": [],
   "source": [
    "df = pd.read_csv('https://raw.githubusercontent.com/mredshaw/MODELS-APP/main/Assignment%202/price_response.csv')  # Change to your file's path"
   ]
  },
  {
   "cell_type": "code",
   "execution_count": 8,
   "metadata": {},
   "outputs": [],
   "source": [
    "import pandas as pd\n",
    "model = Model('Maximize Revenue Within Line Constraints')\n",
    "\n",
    "# Convert dataframe columns to arrays\n",
    "intercepts = df['Intercept'].to_numpy()\n",
    "sensitivities = abs(df['Sensitivity'].to_numpy())\n",
    "capacities = df['Capacity'].to_numpy()\n",
    "\n",
    "a1 = intercepts[0]\n",
    "a2 = intercepts[1]\n",
    "\n"
   ]
  },
  {
   "cell_type": "code",
   "execution_count": 9,
   "metadata": {},
   "outputs": [
    {
     "name": "stdout",
     "output_type": "stream",
     "text": [
      "35234.54578551236\n"
     ]
    }
   ],
   "source": [
    "print(a1)"
   ]
  },
  {
   "cell_type": "code",
   "execution_count": 4,
   "metadata": {},
   "outputs": [
    {
     "name": "stdout",
     "output_type": "stream",
     "text": [
      "[35234.54578551 37790.24083214 35675.33321726 37041.38037789\n",
      " 36846.14038592 35827.02374655 39414.26632    35991.95146022\n",
      " 39313.31703125]\n"
     ]
    }
   ],
   "source": [
    "print(intercepts)"
   ]
  },
  {
   "cell_type": "code",
   "execution_count": 7,
   "metadata": {},
   "outputs": [
    {
     "name": "stdout",
     "output_type": "stream",
     "text": [
      "[45.89644971  8.22779417  7.58443641  9.0331664   4.42786921  2.62906001\n",
      "  2.42148392  4.0005124   2.29662237]\n"
     ]
    }
   ],
   "source": [
    "print(sensitivities)\n"
   ]
  }
 ],
 "metadata": {
  "kernelspec": {
   "display_name": "Python 3",
   "language": "python",
   "name": "python3"
  },
  "language_info": {
   "codemirror_mode": {
    "name": "ipython",
    "version": 3
   },
   "file_extension": ".py",
   "mimetype": "text/x-python",
   "name": "python",
   "nbconvert_exporter": "python",
   "pygments_lexer": "ipython3",
   "version": "3.11.3"
  }
 },
 "nbformat": 4,
 "nbformat_minor": 2
}
